{
 "cells": [
  {
   "cell_type": "markdown",
   "id": "25d7736c-ba17-4aff-b6bb-66eba20fbf4e",
   "metadata": {},
   "source": [
    "# Lab | Functions"
   ]
  },
  {
   "cell_type": "markdown",
   "id": "0c581062-8967-4d93-b06e-62833222f930",
   "metadata": {
    "tags": []
   },
   "source": [
    "## Exercise: Managing Customer Orders with Functions\n",
    "\n",
    "In the previous exercise, you improved the code for managing customer orders by using loops and flow control. Now, let's take it a step further and refactor the code by introducing functions.\n",
    "\n",
    "Follow the steps below to complete the exercise:\n",
    "\n",
    "1. Define a function named `initialize_inventory` that takes `products` as a parameter. Inside the function, implement the code for initializing the inventory dictionary using a loop and user input.\n",
    "\n",
    "2. Define a function named `get_customer_orders` that takes no parameters. Inside the function, implement the code for prompting the user to enter the product names using a loop. The function should return the `customer_orders` set.\n",
    "\n",
    "3. Define a function named `update_inventory` that takes `customer_orders` and `inventory` as parameters. Inside the function, implement the code for updating the inventory dictionary based on the customer orders.\n",
    "\n",
    "4. Define a function named `calculate_order_statistics` that takes `customer_orders` and `products` as parameters. Inside the function, implement the code for calculating the order statistics (total products ordered, and percentage of unique products ordered). The function should return these values.\n",
    "\n",
    "5. Define a function named `print_order_statistics` that takes `order_statistics` as a parameter. Inside the function, implement the code for printing the order statistics.\n",
    "\n",
    "6. Define a function named `print_updated_inventory` that takes `inventory` as a parameter. Inside the function, implement the code for printing the updated inventory.\n",
    "\n",
    "7. Call the functions in the appropriate sequence to execute the program and manage customer orders.\n",
    "\n",
    "Hints for functions:\n",
    "\n",
    "- Consider the input parameters required for each function and their return values.\n",
    "- Utilize function parameters and return values to transfer data between functions.\n",
    "- Test your functions individually to ensure they work correctly.\n",
    "\n",
    "\n"
   ]
  },
  {
   "cell_type": "code",
   "execution_count": 298,
   "id": "534266ec-f23d-4271-a9f9-0740d54eb641",
   "metadata": {},
   "outputs": [],
   "source": [
    "products = [\"t-shirt\", \"mug\", \"hat\", \"book\", \"keychain\"]\n",
    "\n",
    "def initialize_inventory(products):\n",
    "    inventory = {}\n",
    "    for product in products:\n",
    "        quantity = int(input(f\"Enter the {product} inventory\"))\n",
    "        inventory[product] = quantity\n",
    "    return inventory"
   ]
  },
  {
   "cell_type": "code",
   "execution_count": 300,
   "id": "4ebed3aa-fbe3-4e6a-951e-5cba5a1f14a5",
   "metadata": {},
   "outputs": [
    {
     "name": "stdin",
     "output_type": "stream",
     "text": [
      "Enter the t-shirt inventory 9\n",
      "Enter the mug inventory 9\n",
      "Enter the hat inventory 9\n",
      "Enter the book inventory 9\n",
      "Enter the keychain inventory 9\n"
     ]
    },
    {
     "name": "stdout",
     "output_type": "stream",
     "text": [
      "{'t-shirt': 9, 'mug': 9, 'hat': 9, 'book': 9, 'keychain': 9}\n"
     ]
    }
   ],
   "source": [
    "inventory = initialize_inventory(products)\n",
    "print(inventory)"
   ]
  },
  {
   "cell_type": "code",
   "execution_count": 302,
   "id": "02bd5088-93c6-4f18-844b-42d02b95648b",
   "metadata": {},
   "outputs": [],
   "source": [
    "def get_customer_orders():\n",
    "    customer_orders = set()\n",
    "    while True:\n",
    "        order = input(\"Enter the product you want to order. Type done when finished\")\n",
    "        if order == \"done\":\n",
    "            print(\"Products have been ordered\")\n",
    "            break\n",
    "        customer_orders.add(order)\n",
    "        print(f\"Added {order} to your order\")\n",
    "    return customer_orders"
   ]
  },
  {
   "cell_type": "code",
   "execution_count": 304,
   "id": "eadc9ac1-fcc7-4e7e-9573-6d4f0fd6eebc",
   "metadata": {},
   "outputs": [
    {
     "name": "stdin",
     "output_type": "stream",
     "text": [
      "Enter the product you want to order. Type done when finished mug\n"
     ]
    },
    {
     "name": "stdout",
     "output_type": "stream",
     "text": [
      "Added mug to your order\n"
     ]
    },
    {
     "name": "stdin",
     "output_type": "stream",
     "text": [
      "Enter the product you want to order. Type done when finished hat\n"
     ]
    },
    {
     "name": "stdout",
     "output_type": "stream",
     "text": [
      "Added hat to your order\n"
     ]
    },
    {
     "name": "stdin",
     "output_type": "stream",
     "text": [
      "Enter the product you want to order. Type done when finished book\n"
     ]
    },
    {
     "name": "stdout",
     "output_type": "stream",
     "text": [
      "Added book to your order\n"
     ]
    },
    {
     "name": "stdin",
     "output_type": "stream",
     "text": [
      "Enter the product you want to order. Type done when finished done\n"
     ]
    },
    {
     "name": "stdout",
     "output_type": "stream",
     "text": [
      "Products have been ordered\n",
      "{'hat', 'book', 'mug'}\n"
     ]
    }
   ],
   "source": [
    "customer_orders = get_customer_orders()\n",
    "print(customer_orders)"
   ]
  },
  {
   "cell_type": "code",
   "execution_count": 306,
   "id": "cf987bdb-b92c-454d-8e73-79370f796866",
   "metadata": {},
   "outputs": [],
   "source": [
    "def update_inventory(customer_orders, inventory):\n",
    "    for product in customer_orders:\n",
    "        if product in inventory:\n",
    "            inventory[product] -=1\n",
    "    else:\n",
    "        inventory[product]\n",
    "    return inventory"
   ]
  },
  {
   "cell_type": "code",
   "execution_count": 308,
   "id": "271f7d69-dadd-4b22-9482-77358b3f2201",
   "metadata": {},
   "outputs": [
    {
     "name": "stdout",
     "output_type": "stream",
     "text": [
      "{'t-shirt': 9, 'mug': 8, 'hat': 8, 'book': 8, 'keychain': 9}\n"
     ]
    }
   ],
   "source": [
    "updated_inventory = update_inventory(customer_orders, inventory)\n",
    "print(updated_inventory)"
   ]
  },
  {
   "cell_type": "code",
   "execution_count": 310,
   "id": "be676b36-b2b0-4053-922a-93c51391b984",
   "metadata": {},
   "outputs": [],
   "source": [
    "def calculate_order_statistics(customer_orders, products):\n",
    "    total_product_ordered = len(customer_orders)\n",
    "    print(f\"you ordered {total_product_ordered} products\")\n",
    "    percentage_unique_product_ordered = len(customer_orders)/len(products)\n",
    "    print(f\"you ordered {(percentage_unique_product_ordered)*100}% of our products\")\n",
    "    order_statistics = total_product_ordered, percentage_unique_product_ordered\n",
    "    return order_statistics"
   ]
  },
  {
   "cell_type": "code",
   "execution_count": 312,
   "id": "2a04df90-3f1d-44e3-b723-74de909d99e4",
   "metadata": {},
   "outputs": [
    {
     "name": "stdout",
     "output_type": "stream",
     "text": [
      "you ordered 3 products\n",
      "you ordered 60.0% of our products\n"
     ]
    }
   ],
   "source": [
    "order_statistics = calculate_order_statistics(customer_orders, products)"
   ]
  },
  {
   "cell_type": "code",
   "execution_count": 314,
   "id": "4f4a4356-152c-4a18-a1c6-35af348cfd44",
   "metadata": {},
   "outputs": [],
   "source": [
    "def print_order_statistics(order_statistics):\n",
    "    for product in products:\n",
    "        percentage_product_ordered = updated_inventory[product]/inventory[product]\n",
    "        print(f\"This {product} order represents {percentage_product_ordered} of the inventory\")\n",
    "    return percentage_product_ordered"
   ]
  },
  {
   "cell_type": "code",
   "execution_count": 316,
   "id": "385e8e07-8eb5-4d5e-9327-0d58a0b6bd4d",
   "metadata": {},
   "outputs": [
    {
     "name": "stdout",
     "output_type": "stream",
     "text": [
      "This t-shirt order represents 1.0 of the inventory\n",
      "This mug order represents 1.0 of the inventory\n",
      "This hat order represents 1.0 of the inventory\n",
      "This book order represents 1.0 of the inventory\n",
      "This keychain order represents 1.0 of the inventory\n"
     ]
    },
    {
     "data": {
      "text/plain": [
       "1.0"
      ]
     },
     "execution_count": 316,
     "metadata": {},
     "output_type": "execute_result"
    }
   ],
   "source": [
    "print_order_statistics(order_statistics)"
   ]
  },
  {
   "cell_type": "code",
   "execution_count": 318,
   "id": "1d144d27-f5d6-418c-8518-02795a3d9e6a",
   "metadata": {},
   "outputs": [],
   "source": [
    "def print_updated_inventory(updated_inventory):\n",
    "    inventory = updated_inventory\n",
    "    return inventory"
   ]
  },
  {
   "cell_type": "code",
   "execution_count": 320,
   "id": "b0f6edd5-5874-4283-849e-c5f8014b82b9",
   "metadata": {},
   "outputs": [
    {
     "data": {
      "text/plain": [
       "{'t-shirt': 9, 'mug': 8, 'hat': 8, 'book': 8, 'keychain': 9}"
      ]
     },
     "execution_count": 320,
     "metadata": {},
     "output_type": "execute_result"
    }
   ],
   "source": [
    "print_updated_inventory(inventory)"
   ]
  },
  {
   "cell_type": "code",
   "execution_count": null,
   "id": "d42acf4e-9e33-4e43-95fc-1ab75025d953",
   "metadata": {},
   "outputs": [],
   "source": []
  }
 ],
 "metadata": {
  "kernelspec": {
   "display_name": "Python 3 (ipykernel)",
   "language": "python",
   "name": "python3"
  },
  "language_info": {
   "codemirror_mode": {
    "name": "ipython",
    "version": 3
   },
   "file_extension": ".py",
   "mimetype": "text/x-python",
   "name": "python",
   "nbconvert_exporter": "python",
   "pygments_lexer": "ipython3",
   "version": "3.12.4"
  }
 },
 "nbformat": 4,
 "nbformat_minor": 5
}
